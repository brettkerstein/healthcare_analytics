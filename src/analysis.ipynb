{
 "cells": [
  {
   "cell_type": "code",
   "execution_count": 1,
   "metadata": {},
   "outputs": [],
   "source": [
    "import pandas as pd\n",
    "import numpy as np\n",
    "import matplotlib.pyplot as plt\n",
    "import seaborn as sns\n"
   ]
  },
  {
   "cell_type": "code",
   "execution_count": null,
   "metadata": {},
   "outputs": [],
   "source": [
    "# Load the Excel file\n",
    "df = pd.read_excel('DSD_PTD_R17_DYT16_Web.xlsx')"
   ]
  },
  {
   "cell_type": "code",
   "execution_count": 2,
   "metadata": {},
   "outputs": [],
   "source": [
    "# Data cleaning on manufacturer, spending and beneficiaries"
   ]
  },
  {
   "cell_type": "code",
   "execution_count": null,
   "metadata": {},
   "outputs": [],
   "source": [
    "\n",
    "# Function to format spending as $X.XXM\n",
    "def format_spending(value):\n",
    "    return f'${value/1e6:.2f}M'\n",
    "\n",
    "# Apply formatting to 'Total Spending' column\n",
    "df['Total Spending Formatted'] = df['Total Spending'].apply(format_spending)\n",
    "\n",
    "# Set a consistent style for all plots\n",
    "plt.style.use('seaborn')\n",
    "colors = sns.color_palette(\"husl\", 10)\n",
    "\n",
    "# Example 1: Bar plot of top 10 drugs by total spending\n",
    "top_10_drugs = df.nlargest(10, 'Total Spending')\n",
    "plt.figure(figsize=(14, 8))\n",
    "ax = sns.barplot(x='Drug Name', y='Total Spending', data=top_10_drugs, palette=colors)\n",
    "plt.title('Top 10 Drugs by Total Spending', fontsize=20, pad=20)\n",
    "plt.xlabel('Drug Name', fontsize=14)\n",
    "plt.ylabel('Total Spending', fontsize=14)\n",
    "plt.xticks(rotation=45, ha='right', fontsize=12)\n",
    "plt.yticks(fontsize=12)\n",
    "\n",
    "# Add value labels on top of each bar\n",
    "for i, v in enumerate(top_10_drugs['Total Spending']):\n",
    "    ax.text(i, v, format_spending(v), ha='center', va='bottom', fontsize=10)\n",
    "\n",
    "ax.spines['top'].set_visible(False)\n",
    "ax.spines['right'].set_visible(False)\n",
    "plt.tight_layout()\n",
    "plt.show()\n",
    "\n",
    "# Example 2: Scatter plot of Total Spending vs Beneficiary Count\n",
    "plt.figure(figsize=(12, 8))\n",
    "sns.scatterplot(x='Beneficiary Count', y='Total Spending', data=df, alpha=0.6, size='Total Spending', sizes=(20, 500), hue='Total Spending', palette='viridis')\n",
    "plt.title('Total Spending vs Beneficiary Count', fontsize=20, pad=20)\n",
    "plt.xlabel('Number of Beneficiaries', fontsize=14)\n",
    "plt.ylabel('Total Spending', fontsize=14)\n",
    "plt.xticks(fontsize=12)\n",
    "plt.yticks(fontsize=12)\n",
    "plt.legend(title='Total Spending', title_fontsize='13', fontsize='11')\n",
    "formatter = plt.FuncFormatter(lambda x, p: format_spending(x))\n",
    "plt.gca().yaxis.set_major_formatter(formatter)\n",
    "plt.tight_layout()\n",
    "plt.show()\n",
    "\n",
    "# Example 3: Pie chart of top 5 drugs by beneficiary count\n",
    "top_5_beneficiaries = df.nlargest(5, 'Beneficiary Count')\n",
    "plt.figure(figsize=(12, 10))\n",
    "plt.pie(top_5_beneficiaries['Beneficiary Count'], labels=top_5_beneficiaries['Drug Name'], autopct='%1.1f%%', \n",
    "        startangle=90, colors=colors, wedgeprops=dict(width=0.5, edgecolor='white'))\n",
    "plt.title('Top 5 Drugs by Beneficiary Count', fontsize=20, pad=20)\n",
    "plt.axis('equal')\n",
    "central_circle = plt.Circle((0, 0), 0.70, fc='white')\n",
    "fig = plt.gcf()\n",
    "fig.gca().add_artist(central_circle)\n",
    "plt.show()\n",
    "\n",
    "# Example 4: Box plot of spending distribution by drug category\n",
    "plt.figure(figsize=(14, 8))\n",
    "ax = sns.boxplot(x='Drug Category', y='Total Spending', data=df, palette='Set3')\n",
    "plt.title('Distribution of Total Spending by Drug Category', fontsize=20, pad=20)\n",
    "plt.xlabel('Drug Category', fontsize=14)\n",
    "plt.ylabel('Total Spending', fontsize=14)\n",
    "plt.xticks(rotation=45, ha='right', fontsize=12)\n",
    "plt.yticks(fontsize=12)\n",
    "formatter = plt.FuncFormatter(lambda x, p: format_spending(x))\n",
    "plt.gca().yaxis.set_major_formatter(formatter)\n",
    "ax.spines['top'].set_visible(False)\n",
    "ax.spines['right'].set_visible(False)\n",
    "plt.tight_layout()\n",
    "plt.show()"
   ]
  }
 ],
 "metadata": {
  "kernelspec": {
   "display_name": "base",
   "language": "python",
   "name": "python3"
  },
  "language_info": {
   "codemirror_mode": {
    "name": "ipython",
    "version": 3
   },
   "file_extension": ".py",
   "mimetype": "text/x-python",
   "name": "python",
   "nbconvert_exporter": "python",
   "pygments_lexer": "ipython3",
   "version": "3.12.4"
  }
 },
 "nbformat": 4,
 "nbformat_minor": 2
}
